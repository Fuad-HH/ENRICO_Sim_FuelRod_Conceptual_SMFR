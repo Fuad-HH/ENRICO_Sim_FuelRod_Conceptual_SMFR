{
 "cells": [
  {
   "cell_type": "code",
   "execution_count": 1,
   "metadata": {},
   "outputs": [],
   "source": [
    "import openmc as mc\n",
    "import matplotlib.pyplot as plt\n",
    "%matplotlib inline"
   ]
  },
  {
   "cell_type": "code",
   "execution_count": 2,
   "metadata": {},
   "outputs": [],
   "source": [
    "# create materials\n",
    "uranium = mc.Material(1, \"natural uranium\")\n",
    "uranium.add_nuclide('U238', 99.8, 'wo')\n",
    "uranium.add_nuclide('U235', 0.2, 'wo')\n",
    "uranium.add_nuclide('U234', 0.001, 'wo')\n",
    "uranium.deplete = True\n",
    "\n",
    "zirconium = mc.Material(2, \"zirconium\")\n",
    "zirconium.add_element('Zr',1,'wo')\n",
    "\n",
    "plutonium = mc.Material(3, \"plutonium\")\n",
    "plutonium.add_nuclide('Pu238', 3.18, 'wo')\n",
    "plutonium.add_nuclide('Pu239', 56.35, 'wo')\n",
    "plutonium.add_nuclide('Pu240', 26.6, 'wo')\n",
    "plutonium.add_nuclide('Pu241', 8.02, 'wo')\n",
    "plutonium.add_nuclide('Pu242', 5.83, 'wo')\n",
    "plutonium.deplete = True\n",
    "\n",
    "upz = mc.Material.mix_materials([uranium, plutonium, zirconium], [0.8, 0.1, 0.1], 'wo')\n",
    "upz.set_density('g/cc', 11.88)\n",
    "upz.temperature = 700"
   ]
  },
  {
   "cell_type": "code",
   "execution_count": 3,
   "metadata": {},
   "outputs": [],
   "source": [
    "lbe = mc.Material(5, \"lead-bismuth-eutectic\")\n",
    "\n",
    "lbe.add_element('Pb', 44.5, 'wo')\n",
    "lbe.add_element('Bi', 55.5, 'wo')\n",
    "\n",
    "lbe.set_density('g/cc', 10.3)\n",
    "lbe.temperature = 620.15"
   ]
  },
  {
   "cell_type": "code",
   "execution_count": 4,
   "metadata": {},
   "outputs": [],
   "source": [
    "steel = mc.Material(6, \"15-15Ti Steel\")\n",
    "\n",
    "steel.add_nuclide('C12', 0.090, 'wo')\n",
    "steel.add_nuclide('Mn55', 1.502, 'wo')\n",
    "steel.add_nuclide('Si28', 0.791, 'wo')\n",
    "steel.add_nuclide('P31', 0.041, 'wo')\n",
    "\n",
    "steel.add_element('Ti', 0.404, 'wo')\n",
    "steel.add_element('Cr', 14.392, 'wo')\n",
    "steel.add_element('Ni', 15.607, 'wo')\n",
    "steel.add_element('B', 0.007, 'wo')\n",
    "steel.add_element('Mo', 1.509, 'wo')\n",
    "\n",
    "steel.set_density('g/cc', 7.92)\n",
    "steel.temperature = 650"
   ]
  },
  {
   "cell_type": "code",
   "execution_count": 5,
   "metadata": {},
   "outputs": [],
   "source": [
    "# volume calculation\n",
    "import numpy as np\n",
    "fuel_radius = 0.74\n",
    "clad_radius = 0.77\n",
    "# total volume of the hexagonal cylinder with edge length of 1.096965511 cm and height of 140 cm\n",
    "# area of regular hexagon\n",
    "area = ((np.sqrt(3) / 4) * 1.096965511 * 1.096965511) * 6\n",
    "total_volume = area * 140\n",
    "\n",
    "fuel_volume = np.pi * fuel_radius * fuel_radius * 140\n",
    "clad_volume = np.pi * (clad_radius * clad_radius - fuel_radius * fuel_radius) * 140\n",
    "coolant_volume = total_volume - fuel_volume - clad_volume\n",
    "\n",
    "upz.volume = fuel_volume\n",
    "lbe.volume = coolant_volume\n",
    "steel.volume = clad_volume"
   ]
  },
  {
   "cell_type": "code",
   "execution_count": 6,
   "metadata": {},
   "outputs": [],
   "source": [
    "mats = mc.Materials([upz, lbe, steel])\n",
    "mats.export_to_xml()"
   ]
  },
  {
   "cell_type": "code",
   "execution_count": 7,
   "metadata": {},
   "outputs": [],
   "source": [
    "# create geometry\n",
    "ac_top = mc.ZPlane(z0=140, boundary_type='vacuum')\n",
    "ac_bottom = mc.ZPlane(z0=0, boundary_type='vacuum')\n",
    "\n",
    "fuel_radius = 0.74\n",
    "clad_radius = 0.77\n",
    "r_fuel = mc.ZCylinder(r= fuel_radius) \n",
    "r_clad = mc.ZCylinder(r= clad_radius)\n",
    "\n",
    "#create hexagonal prism with parallel sides distance of 1.9\n",
    "hex_region = mc.hexagonal_prism(edge_length= 1.096965511, orientation='x', boundary_type='reflective') & -ac_top & +ac_bottom\n",
    "\n",
    "\n",
    "# create cells\n",
    "fuel = mc.Cell(fill=upz, region=-r_fuel & +ac_bottom & -ac_top) \n",
    "clad = mc.Cell(fill=steel, region=+r_fuel & -r_clad & +ac_bottom & -ac_top)\n",
    "coolant = mc.Cell(fill=lbe, region= hex_region & ~clad.region & ~fuel.region)\n",
    "\n",
    "pin_universe = mc.Universe(cells=[fuel, clad, coolant], name=\"pin_for_zone\") "
   ]
  },
  {
   "cell_type": "code",
   "execution_count": 8,
   "metadata": {},
   "outputs": [],
   "source": [
    "geom = mc.Geometry()\n",
    "geom.root_universe = pin_universe\n",
    "geom.export_to_xml()\n",
    "\n"
   ]
  },
  {
   "cell_type": "code",
   "execution_count": 9,
   "metadata": {},
   "outputs": [
    {
     "data": {
      "text/plain": [
       "<matplotlib.image.AxesImage at 0x7ff808af81f0>"
      ]
     },
     "execution_count": 9,
     "metadata": {},
     "output_type": "execute_result"
    },
    {
     "data": {
      "image/png": "[encoded data removed]",
      "text/plain": [
       "<Figure size 258.065x264.901 with 1 Axes>"
      ]
     },
     "metadata": {
      "needs_background": "light"
     },
     "output_type": "display_data"
    }
   ],
   "source": [
    "#default origin will not work as the domain is from 0 to 140 in z direction\n",
    "pin_universe.plot(width = (2.2, 2), basis = 'xy', origin = (0, 0, 3))"
   ]
  },
  {
   "cell_type": "code",
   "execution_count": 8,
   "metadata": {},
   "outputs": [
    {
     "data": {
      "image/png": "[encoded data removed]",
      "text/plain": [
       "<IPython.core.display.Image object>"
      ]
     },
     "execution_count": 8,
     "metadata": {},
     "output_type": "execute_result"
    }
   ],
   "source": [
    "# core_slice for slice plot of the core\n",
    "core_slice = mc.Plot()\n",
    "core_slice.filename = 'coreSlice'\n",
    "core_slice.color_by = 'material'\n",
    "core_slice.colors = {upz: 'red', lbe: 'blue', steel: 'silver'}\n",
    "core_slice.show_overlaps = True\n",
    "core_slice.type = 'slice'\n",
    "core_slice.width = (2.2, 2.2)\n",
    "core_slice.pixels = (400, 400)\n",
    "core_slice.basis = 'xy'\n",
    "core_slice.origin = (0, 0, 3)\n",
    "core_slice.to_ipython_image()"
   ]
  },
  {
   "cell_type": "code",
   "execution_count": 11,
   "metadata": {},
   "outputs": [
    {
     "name": "stdout",
     "output_type": "stream",
     "text": [
      " Reading cross sections XML file...\n",
      " Reading materials XML file...\n",
      " Reading geometry XML file...\n",
      " Preparing distributed cell instances...\n",
      " Reading plot XML file...\n",
      " WARNING: Color specifications ignored in voxel plot 3\n",
      "\n",
      " =======================>     PLOTTING SUMMARY     <========================\n",
      "\n",
      "Plot ID: 3\n",
      "Plot file: coreVoxel.h5\n",
      "Universe depth: -1\n",
      "Plot Type: Voxel\n",
      "Origin: 0 0 70\n",
      "Width:  2.2  1.9  140\n",
      "Coloring: Materials\n",
      "Voxels: 400 400 100\n",
      "\n",
      " Processing plot 3: coreVoxel.h5...\n",
      "Traceback (most recent call last):\n",
      "  File \"/home/fuad/.local/bin/openmc-voxel-to-vtk\", line 9, in <module>\n",
      "    import vtk\n",
      "ModuleNotFoundError: No module named 'vtk'\n"
     ]
    }
   ],
   "source": [
    "# p_core for voxel plot\n",
    "p_core = mc.Plot()\n",
    "p_core.filename = 'coreVoxel'\n",
    "p_core.color_by = 'material'\n",
    "p_core.colors = {upz: 'red', lbe: 'blue', steel: 'silver'}\n",
    "p_core.show_overlaps = True\n",
    "p_core.type = 'voxel'\n",
    "\n",
    "# here width and pixels are set to visualize approximately the center assembly.\n",
    "# you can increase these values to visualize the whole core\n",
    "p_core.width = (2.2, 1.9, 140)\n",
    "p_core.origin = (0, 0, 70)\n",
    "p_core.pixels = (400, 400, 100)\n",
    "p_core.depth = 5\n",
    "p_core.color_by = 'material'\n",
    "p_core.highlight_domains(geom, [steel,lbe], seed=1, alpha=0.2, background='white')\n",
    "\n",
    "plots = mc.Plots([p_core])\n",
    "plots.export_to_xml()\n",
    "mc.plot_geometry()\n",
    "!openmc-voxel-to-vtk coreVoxel.h5 -o coreVoxel.vti"
   ]
  },
  {
   "cell_type": "code",
   "execution_count": 10,
   "metadata": {},
   "outputs": [],
   "source": [
    "box = mc.stats.Box(upper_right=(0.74, 0.74, 140), lower_left=(-0.74, -0.74, 0))\n",
    "source = mc.Source(space=box)\n",
    "\n",
    "settings = mc.Settings()\n",
    "settings.source = source\n",
    "settings.batches = 100\n",
    "settings.generations_per_batch = 5\n",
    "settings.inactive = 20\n",
    "settings.particles = 10000\n",
    "settings.photon_transport = True\n",
    "settings.electron_treatment = 'ttb'\n",
    "settings.temperature = {'default': 700, 'method': 'interpolation', 'range': (200, 1500), 'multipole': False}\n",
    "\n",
    "settings.export_to_xml()"
   ]
  },
  {
   "cell_type": "code",
   "execution_count": 11,
   "metadata": {},
   "outputs": [
    {
     "name": "stdout",
     "output_type": "stream",
     "text": [
      "                                %%%%%%%%%%%%%%%\n",
      "                           %%%%%%%%%%%%%%%%%%%%%%%%\n",
      "                        %%%%%%%%%%%%%%%%%%%%%%%%%%%%%%\n",
      "                      %%%%%%%%%%%%%%%%%%%%%%%%%%%%%%%%%%\n",
      "                    %%%%%%%%%%%%%%%%%%%%%%%%%%%%%%%%%%%%%%\n",
      "                   %%%%%%%%%%%%%%%%%%%%%%%%%%%%%%%%%%%%%%%%\n",
      "                                    %%%%%%%%%%%%%%%%%%%%%%%%\n",
      "                                     %%%%%%%%%%%%%%%%%%%%%%%%\n",
      "                 ###############      %%%%%%%%%%%%%%%%%%%%%%%%\n",
      "                ##################     %%%%%%%%%%%%%%%%%%%%%%%\n",
      "                ###################     %%%%%%%%%%%%%%%%%%%%%%%\n",
      "                ####################     %%%%%%%%%%%%%%%%%%%%%%\n",
      "                #####################     %%%%%%%%%%%%%%%%%%%%%\n",
      "                ######################     %%%%%%%%%%%%%%%%%%%%\n",
      "                #######################     %%%%%%%%%%%%%%%%%%\n",
      "                 #######################     %%%%%%%%%%%%%%%%%\n",
      "                 ######################     %%%%%%%%%%%%%%%%%\n",
      "                  ####################     %%%%%%%%%%%%%%%%%\n",
      "                    #################     %%%%%%%%%%%%%%%%%\n",
      "                     ###############     %%%%%%%%%%%%%%%%\n",
      "                       ############     %%%%%%%%%%%%%%%\n",
      "                          ########     %%%%%%%%%%%%%%\n",
      "                                      %%%%%%%%%%%\n",
      "\n",
      "                 | The OpenMC Monte Carlo Code\n",
      "       Copyright | 2011-2022 MIT, UChicago Argonne LLC, and contributors\n",
      "         License | https://docs.openmc.org/en/latest/license.html\n",
      "         Version | 0.13.1-dev\n",
      "        Git SHA1 | 59133088417b417d197beaf86c4e09da295350f5\n",
      "       Date/Time | 2022-08-02 15:41:24\n",
      "  OpenMP Threads | 4\n",
      "\n",
      " Reading settings XML file...\n",
      " Reading cross sections XML file...\n",
      " Reading materials XML file...\n",
      " Reading geometry XML file...\n",
      " Reading U238 from /home/fuad/Data/endfb80_hdf5/U238.h5\n",
      " Reading U from /home/fuad/Data/endfb80_hdf5/photon/U.h5 \n",
      " Reading U235 from /home/fuad/Data/endfb80_hdf5/U235.h5\n",
      " Reading U234 from /home/fuad/Data/endfb80_hdf5/U234.h5\n",
      " Reading Pu238 from /home/fuad/Data/endfb80_hdf5/Pu238.h5\n",
      " Reading Pu from /home/fuad/Data/endfb80_hdf5/photon/Pu.h5 \n",
      " Reading Pu239 from /home/fuad/Data/endfb80_hdf5/Pu239.h5\n",
      " Reading Pu240 from /home/fuad/Data/endfb80_hdf5/Pu240.h5\n",
      " Reading Pu241 from /home/fuad/Data/endfb80_hdf5/Pu241.h5\n",
      " Reading Pu242 from /home/fuad/Data/endfb80_hdf5/Pu242.h5\n",
      " Reading Zr90 from /home/fuad/Data/endfb80_hdf5/Zr90.h5\n",
      " Reading Zr from /home/fuad/Data/endfb80_hdf5/photon/Zr.h5 \n",
      " Reading Zr91 from /home/fuad/Data/endfb80_hdf5/Zr91.h5\n",
      " Reading Zr92 from /home/fuad/Data/endfb80_hdf5/Zr92.h5\n",
      " Reading Zr94 from /home/fuad/Data/endfb80_hdf5/Zr94.h5\n",
      " Reading Zr96 from /home/fuad/Data/endfb80_hdf5/Zr96.h5\n",
      " WARNING: Negative value(s) found on probability table for nuclide Zr96 at 250K\n",
      " WARNING: Negative value(s) found on probability table for nuclide Zr96 at 294K\n",
      " WARNING: Negative value(s) found on probability table for nuclide Zr96 at 600K\n",
      " WARNING: Negative value(s) found on probability table for nuclide Zr96 at 900K\n",
      " WARNING: Negative value(s) found on probability table for nuclide Zr96 at 1200K\n",
      " WARNING: Negative value(s) found on probability table for nuclide Zr96 at 2500K\n",
      " Reading Pb204 from /home/fuad/Data/endfb80_hdf5/Pb204.h5\n",
      " Reading Pb from /home/fuad/Data/endfb80_hdf5/photon/Pb.h5 \n",
      " Reading Pb206 from /home/fuad/Data/endfb80_hdf5/Pb206.h5\n",
      " Reading Pb207 from /home/fuad/Data/endfb80_hdf5/Pb207.h5\n",
      " Reading Pb208 from /home/fuad/Data/endfb80_hdf5/Pb208.h5\n",
      " Reading Bi209 from /home/fuad/Data/endfb80_hdf5/Bi209.h5\n",
      " Reading Bi from /home/fuad/Data/endfb80_hdf5/photon/Bi.h5 \n",
      " Reading C12 from /home/fuad/Data/endfb80_hdf5/C12.h5\n",
      " Reading C from /home/fuad/Data/endfb80_hdf5/photon/C.h5 \n",
      " Reading Mn55 from /home/fuad/Data/endfb80_hdf5/Mn55.h5\n",
      " Reading Mn from /home/fuad/Data/endfb80_hdf5/photon/Mn.h5 \n",
      " Reading Si28 from /home/fuad/Data/endfb80_hdf5/Si28.h5\n",
      " Reading Si from /home/fuad/Data/endfb80_hdf5/photon/Si.h5 \n",
      " Reading P31 from /home/fuad/Data/endfb80_hdf5/P31.h5\n",
      " Reading P from /home/fuad/Data/endfb80_hdf5/photon/P.h5 \n",
      " Reading Ti46 from /home/fuad/Data/endfb80_hdf5/Ti46.h5\n",
      " Reading Ti from /home/fuad/Data/endfb80_hdf5/photon/Ti.h5 \n",
      " Reading Ti47 from /home/fuad/Data/endfb80_hdf5/Ti47.h5\n",
      " Reading Ti48 from /home/fuad/Data/endfb80_hdf5/Ti48.h5\n",
      " Reading Ti49 from /home/fuad/Data/endfb80_hdf5/Ti49.h5\n",
      " Reading Ti50 from /home/fuad/Data/endfb80_hdf5/Ti50.h5\n",
      " Reading Cr50 from /home/fuad/Data/endfb80_hdf5/Cr50.h5\n",
      " Reading Cr from /home/fuad/Data/endfb80_hdf5/photon/Cr.h5 \n",
      " Reading Cr52 from /home/fuad/Data/endfb80_hdf5/Cr52.h5\n",
      " Reading Cr53 from /home/fuad/Data/endfb80_hdf5/Cr53.h5\n",
      " Reading Cr54 from /home/fuad/Data/endfb80_hdf5/Cr54.h5\n"
     ]
    },
    {
     "ename": "KeyboardInterrupt",
     "evalue": "",
     "output_type": "error",
     "traceback": [
      "\u001b[0;31m---------------------------------------------------------------------------\u001b[0m",
      "\u001b[0;31mKeyboardInterrupt\u001b[0m                         Traceback (most recent call last)",
      "\u001b[1;32m/home/fuad/enrico/source/pinCell.ipynb Cell 11\u001b[0m in \u001b[0;36m<cell line: 1>\u001b[0;34m()\u001b[0m\n\u001b[0;32m----> <a href='vscode-notebook-cell:/home/fuad/enrico/source/pinCell.ipynb#ch0000010?line=0'>1</a>\u001b[0m mc\u001b[39m.\u001b[39;49mrun()\n",
      "File \u001b[0;32m~/miniconda3/envs/openmc-env/lib/python3.10/site-packages/openmc/executor.py:276\u001b[0m, in \u001b[0;36mrun\u001b[0;34m(particles, threads, geometry_debug, restart_file, tracks, output, cwd, openmc_exec, mpi_args, event_based)\u001b[0m\n\u001b[1;32m    232\u001b[0m \u001b[39m\"\"\"Run an OpenMC simulation.\u001b[39;00m\n\u001b[1;32m    233\u001b[0m \n\u001b[1;32m    234\u001b[0m \u001b[39mParameters\u001b[39;00m\n\u001b[0;32m   (...)\u001b[0m\n\u001b[1;32m    268\u001b[0m \n\u001b[1;32m    269\u001b[0m \u001b[39m\"\"\"\u001b[39;00m\n\u001b[1;32m    271\u001b[0m args \u001b[39m=\u001b[39m _process_CLI_arguments(\n\u001b[1;32m    272\u001b[0m     volume\u001b[39m=\u001b[39m\u001b[39mFalse\u001b[39;00m, geometry_debug\u001b[39m=\u001b[39mgeometry_debug, particles\u001b[39m=\u001b[39mparticles,\n\u001b[1;32m    273\u001b[0m     restart_file\u001b[39m=\u001b[39mrestart_file, threads\u001b[39m=\u001b[39mthreads, tracks\u001b[39m=\u001b[39mtracks,\n\u001b[1;32m    274\u001b[0m     event_based\u001b[39m=\u001b[39mevent_based, openmc_exec\u001b[39m=\u001b[39mopenmc_exec, mpi_args\u001b[39m=\u001b[39mmpi_args)\n\u001b[0;32m--> 276\u001b[0m _run(args, output, cwd)\n",
      "File \u001b[0;32m~/miniconda3/envs/openmc-env/lib/python3.10/site-packages/openmc/executor.py:95\u001b[0m, in \u001b[0;36m_run\u001b[0;34m(args, output, cwd)\u001b[0m\n\u001b[1;32m     92\u001b[0m lines \u001b[39m=\u001b[39m []\n\u001b[1;32m     93\u001b[0m \u001b[39mwhile\u001b[39;00m \u001b[39mTrue\u001b[39;00m:\n\u001b[1;32m     94\u001b[0m     \u001b[39m# If OpenMC is finished, break loop\u001b[39;00m\n\u001b[0;32m---> 95\u001b[0m     line \u001b[39m=\u001b[39m p\u001b[39m.\u001b[39;49mstdout\u001b[39m.\u001b[39;49mreadline()\n\u001b[1;32m     96\u001b[0m     \u001b[39mif\u001b[39;00m \u001b[39mnot\u001b[39;00m line \u001b[39mand\u001b[39;00m p\u001b[39m.\u001b[39mpoll() \u001b[39mis\u001b[39;00m \u001b[39mnot\u001b[39;00m \u001b[39mNone\u001b[39;00m:\n\u001b[1;32m     97\u001b[0m         \u001b[39mbreak\u001b[39;00m\n",
      "\u001b[0;31mKeyboardInterrupt\u001b[0m: "
     ]
    }
   ],
   "source": [
    "mc.run()"
   ]
  },
  {
   "cell_type": "code",
   "execution_count": 12,
   "metadata": {},
   "outputs": [
    {
     "name": "stdout",
     "output_type": "stream",
     "text": [
      "[Material\n",
      "\tID             =\t4\n",
      "\tName           =\tnatural uranium(0.8)-plutonium(0.1)-zirconium(0.1)\n",
      "\tTemperature    =\t700\n",
      "\tDensity        =\t11.88 [g/cc]\n",
      "\tS(a,b) Tables  \n",
      "\tNuclides       \n",
      "\tU238           =\t0.6880798179550432 [ao]\n",
      "\tU235           =\t0.0013965576208097431 [ao]\n",
      "\tU234           =\t7.012712703051792e-06 [ao]\n",
      "\tPu238          =\t0.002741188263308345 [ao]\n",
      "\tPu239          =\t0.0483704768409126 [ao]\n",
      "\tPu240          =\t0.022737994321494037 [ao]\n",
      "\tPu241          =\t0.006827064645731688 [ao]\n",
      "\tPu242          =\t0.004942275014030985 [ao]\n",
      "\tZr90           =\t0.1157098216960597 [ao]\n",
      "\tZr91           =\t0.025233512136633423 [ao]\n",
      "\tZr92           =\t0.03856994056535323 [ao]\n",
      "\tZr94           =\t0.03908720507439296 [ao]\n",
      "\tZr96           =\t0.006297133153527059 [ao]\n",
      ", Material\n",
      "\tID             =\t5\n",
      "\tName           =\tlead-bismuth-eutectic\n",
      "\tTemperature    =\t620.15\n",
      "\tDensity        =\t10.3 [g/cc]\n",
      "\tS(a,b) Tables  \n",
      "\tNuclides       \n",
      "\tPb204          =\t0.6132472856207635 [wo]\n",
      "\tPb206          =\t10.660197461778635 [wo]\n",
      "\tPb207          =\t9.823061646529068 [wo]\n",
      "\tPb208          =\t23.403493606071535 [wo]\n",
      "\tBi209          =\t55.5         [wo]\n",
      ", Material\n",
      "\tID             =\t6\n",
      "\tName           =\t15-15Ti Steel\n",
      "\tTemperature    =\t650\n",
      "\tDensity        =\t7.92 [g/cc]\n",
      "\tS(a,b) Tables  \n",
      "\tNuclides       \n",
      "\tC12            =\t0.09         [wo]\n",
      "\tMn55           =\t1.502        [wo]\n",
      "\tSi28           =\t0.791        [wo]\n",
      "\tP31            =\t0.041        [wo]\n",
      "\tTi46           =\t0.03199718483762423 [wo]\n",
      "\tTi47           =\t0.029483040581658092 [wo]\n",
      "\tTi48           =\t0.2983340110007516 [wo]\n",
      "\tTi49           =\t0.022350049754651106 [wo]\n",
      "\tTi50           =\t0.02183571382531502 [wo]\n",
      "\tCr50           =\t0.6006769663233507 [wo]\n",
      "\tCr52           =\t12.046012229786864 [wo]\n",
      "\tCr53           =\t1.3922226247907639 [wo]\n",
      "\tCr54           =\t0.3530881790990216 [wo]\n",
      "\tNi58           =\t10.487545866197467 [wo]\n",
      "\tNi60           =\t4.178924529383971 [wo]\n",
      "\tNi61           =\t0.18468685241959676 [wo]\n",
      "\tNi62           =\t0.5985007167345611 [wo]\n",
      "\tNi64           =\t0.15734203526440332 [wo]\n",
      "\tB10            =\t0.0012848847112551282 [wo]\n",
      "\tB11            =\t0.0057151152887448715 [wo]\n",
      "\tMo100          =\t0.15310346645591602 [wo]\n",
      "\tMo92           =\t0.21174124093115126 [wo]\n",
      "\tMo94           =\t0.13567899437006287 [wo]\n",
      "\tMo95           =\t0.2369200076414087 [wo]\n",
      "\tMo96           =\t0.2514799255482324 [wo]\n",
      "\tMo97           =\t0.14603491620614434 [wo]\n",
      "\tMo98           =\t0.37404144884708435 [wo]\n",
      "]\n"
     ]
    }
   ],
   "source": [
    "print(mats)"
   ]
  },
  {
   "cell_type": "code",
   "execution_count": null,
   "metadata": {},
   "outputs": [],
   "source": []
  }
 ],
 "metadata": {
  "kernelspec": {
   "display_name": "Python 3 (ipykernel)",
   "language": "python",
   "name": "python3"
  },
  "language_info": {
   "codemirror_mode": {
    "name": "ipython",
    "version": 3
   },
   "file_extension": ".py",
   "mimetype": "text/x-python",
   "name": "python",
   "nbconvert_exporter": "python",
   "pygments_lexer": "ipython3",
   "version": "3.10.5"
  },
  "vscode": {
   "interpreter": {
    "hash": "55afff2fead72fffb84fc1ad750781e8c1e32f2cbe320bc3794d4050513d6322"
   }
  }
 },
 "nbformat": 4,
 "nbformat_minor": 2
}
